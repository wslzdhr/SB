{
 "cells": [
  {
   "cell_type": "code",
   "execution_count": 1,
   "id": "d947a77c",
   "metadata": {},
   "outputs": [],
   "source": [
    "import numpy as np\n",
    "import pandas as pd\n",
    "from scipy.stats import norm\n",
    "import matplotlib.pyplot as plt"
   ]
  },
  {
   "cell_type": "code",
   "execution_count": 2,
   "id": "959311f5",
   "metadata": {},
   "outputs": [],
   "source": [
    "x = np.linspace(-5,5,num=21)"
   ]
  },
  {
   "cell_type": "code",
   "execution_count": 3,
   "id": "750b4430",
   "metadata": {},
   "outputs": [
    {
     "name": "stdout",
     "output_type": "stream",
     "text": [
      "[-5.  -4.5 -4.  -3.5 -3.  -2.5 -2.  -1.5 -1.  -0.5  0.   0.5  1.   1.5\n",
      "  2.   2.5  3.   3.5  4.   4.5  5. ]\n"
     ]
    }
   ],
   "source": [
    "print(x)"
   ]
  },
  {
   "cell_type": "code",
   "execution_count": 4,
   "id": "e9ad3e39",
   "metadata": {},
   "outputs": [
    {
     "data": {
      "text/html": [
       "<div>\n",
       "<style scoped>\n",
       "    .dataframe tbody tr th:only-of-type {\n",
       "        vertical-align: middle;\n",
       "    }\n",
       "\n",
       "    .dataframe tbody tr th {\n",
       "        vertical-align: top;\n",
       "    }\n",
       "\n",
       "    .dataframe thead th {\n",
       "        text-align: right;\n",
       "    }\n",
       "</style>\n",
       "<table border=\"1\" class=\"dataframe\">\n",
       "  <thead>\n",
       "    <tr style=\"text-align: right;\">\n",
       "      <th></th>\n",
       "      <th>x</th>\n",
       "      <th>nom1</th>\n",
       "      <th>nom2</th>\n",
       "      <th>nom3</th>\n",
       "    </tr>\n",
       "  </thead>\n",
       "  <tbody>\n",
       "    <tr>\n",
       "      <th>0</th>\n",
       "      <td>-5.0</td>\n",
       "      <td>0.000001</td>\n",
       "      <td>0.008764</td>\n",
       "      <td>0.033159</td>\n",
       "    </tr>\n",
       "    <tr>\n",
       "      <th>1</th>\n",
       "      <td>-4.5</td>\n",
       "      <td>0.000016</td>\n",
       "      <td>0.015870</td>\n",
       "      <td>0.043173</td>\n",
       "    </tr>\n",
       "    <tr>\n",
       "      <th>2</th>\n",
       "      <td>-4.0</td>\n",
       "      <td>0.000134</td>\n",
       "      <td>0.026995</td>\n",
       "      <td>0.054670</td>\n",
       "    </tr>\n",
       "    <tr>\n",
       "      <th>3</th>\n",
       "      <td>-3.5</td>\n",
       "      <td>0.000873</td>\n",
       "      <td>0.043139</td>\n",
       "      <td>0.067333</td>\n",
       "    </tr>\n",
       "    <tr>\n",
       "      <th>4</th>\n",
       "      <td>-3.0</td>\n",
       "      <td>0.004432</td>\n",
       "      <td>0.064759</td>\n",
       "      <td>0.080657</td>\n",
       "    </tr>\n",
       "    <tr>\n",
       "      <th>5</th>\n",
       "      <td>-2.5</td>\n",
       "      <td>0.017528</td>\n",
       "      <td>0.091325</td>\n",
       "      <td>0.093971</td>\n",
       "    </tr>\n",
       "    <tr>\n",
       "      <th>6</th>\n",
       "      <td>-2.0</td>\n",
       "      <td>0.053991</td>\n",
       "      <td>0.120985</td>\n",
       "      <td>0.106483</td>\n",
       "    </tr>\n",
       "    <tr>\n",
       "      <th>7</th>\n",
       "      <td>-1.5</td>\n",
       "      <td>0.129518</td>\n",
       "      <td>0.150569</td>\n",
       "      <td>0.117355</td>\n",
       "    </tr>\n",
       "    <tr>\n",
       "      <th>8</th>\n",
       "      <td>-1.0</td>\n",
       "      <td>0.241971</td>\n",
       "      <td>0.176033</td>\n",
       "      <td>0.125794</td>\n",
       "    </tr>\n",
       "    <tr>\n",
       "      <th>9</th>\n",
       "      <td>-0.5</td>\n",
       "      <td>0.352065</td>\n",
       "      <td>0.193334</td>\n",
       "      <td>0.131147</td>\n",
       "    </tr>\n",
       "    <tr>\n",
       "      <th>10</th>\n",
       "      <td>0.0</td>\n",
       "      <td>0.398942</td>\n",
       "      <td>0.199471</td>\n",
       "      <td>0.132981</td>\n",
       "    </tr>\n",
       "    <tr>\n",
       "      <th>11</th>\n",
       "      <td>0.5</td>\n",
       "      <td>0.352065</td>\n",
       "      <td>0.193334</td>\n",
       "      <td>0.131147</td>\n",
       "    </tr>\n",
       "    <tr>\n",
       "      <th>12</th>\n",
       "      <td>1.0</td>\n",
       "      <td>0.241971</td>\n",
       "      <td>0.176033</td>\n",
       "      <td>0.125794</td>\n",
       "    </tr>\n",
       "    <tr>\n",
       "      <th>13</th>\n",
       "      <td>1.5</td>\n",
       "      <td>0.129518</td>\n",
       "      <td>0.150569</td>\n",
       "      <td>0.117355</td>\n",
       "    </tr>\n",
       "    <tr>\n",
       "      <th>14</th>\n",
       "      <td>2.0</td>\n",
       "      <td>0.053991</td>\n",
       "      <td>0.120985</td>\n",
       "      <td>0.106483</td>\n",
       "    </tr>\n",
       "    <tr>\n",
       "      <th>15</th>\n",
       "      <td>2.5</td>\n",
       "      <td>0.017528</td>\n",
       "      <td>0.091325</td>\n",
       "      <td>0.093971</td>\n",
       "    </tr>\n",
       "    <tr>\n",
       "      <th>16</th>\n",
       "      <td>3.0</td>\n",
       "      <td>0.004432</td>\n",
       "      <td>0.064759</td>\n",
       "      <td>0.080657</td>\n",
       "    </tr>\n",
       "    <tr>\n",
       "      <th>17</th>\n",
       "      <td>3.5</td>\n",
       "      <td>0.000873</td>\n",
       "      <td>0.043139</td>\n",
       "      <td>0.067333</td>\n",
       "    </tr>\n",
       "    <tr>\n",
       "      <th>18</th>\n",
       "      <td>4.0</td>\n",
       "      <td>0.000134</td>\n",
       "      <td>0.026995</td>\n",
       "      <td>0.054670</td>\n",
       "    </tr>\n",
       "    <tr>\n",
       "      <th>19</th>\n",
       "      <td>4.5</td>\n",
       "      <td>0.000016</td>\n",
       "      <td>0.015870</td>\n",
       "      <td>0.043173</td>\n",
       "    </tr>\n",
       "    <tr>\n",
       "      <th>20</th>\n",
       "      <td>5.0</td>\n",
       "      <td>0.000001</td>\n",
       "      <td>0.008764</td>\n",
       "      <td>0.033159</td>\n",
       "    </tr>\n",
       "  </tbody>\n",
       "</table>\n",
       "</div>"
      ],
      "text/plain": [
       "      x      nom1      nom2      nom3\n",
       "0  -5.0  0.000001  0.008764  0.033159\n",
       "1  -4.5  0.000016  0.015870  0.043173\n",
       "2  -4.0  0.000134  0.026995  0.054670\n",
       "3  -3.5  0.000873  0.043139  0.067333\n",
       "4  -3.0  0.004432  0.064759  0.080657\n",
       "5  -2.5  0.017528  0.091325  0.093971\n",
       "6  -2.0  0.053991  0.120985  0.106483\n",
       "7  -1.5  0.129518  0.150569  0.117355\n",
       "8  -1.0  0.241971  0.176033  0.125794\n",
       "9  -0.5  0.352065  0.193334  0.131147\n",
       "10  0.0  0.398942  0.199471  0.132981\n",
       "11  0.5  0.352065  0.193334  0.131147\n",
       "12  1.0  0.241971  0.176033  0.125794\n",
       "13  1.5  0.129518  0.150569  0.117355\n",
       "14  2.0  0.053991  0.120985  0.106483\n",
       "15  2.5  0.017528  0.091325  0.093971\n",
       "16  3.0  0.004432  0.064759  0.080657\n",
       "17  3.5  0.000873  0.043139  0.067333\n",
       "18  4.0  0.000134  0.026995  0.054670\n",
       "19  4.5  0.000016  0.015870  0.043173\n",
       "20  5.0  0.000001  0.008764  0.033159"
      ]
     },
     "execution_count": 4,
     "metadata": {},
     "output_type": "execute_result"
    }
   ],
   "source": [
    "dn = pd.DataFrame(x,columns=['x'])\n",
    "dn['nom1'] = pd.DataFrame(norm.pdf(x,loc=0,scale=1))\n",
    "dn['nom2'] = pd.DataFrame(norm.pdf(x,loc=0,scale=2))\n",
    "dn['nom3'] = pd.DataFrame(norm.pdf(x,loc=0,scale=3))\n",
    "dn"
   ]
  },
  {
   "cell_type": "code",
   "execution_count": 5,
   "id": "481429f6",
   "metadata": {},
   "outputs": [
    {
     "data": {
      "text/plain": [
       "<matplotlib.legend.Legend at 0x7f830c920310>"
      ]
     },
     "execution_count": 5,
     "metadata": {},
     "output_type": "execute_result"
    },
    {
     "data": {
      "image/png": "[encoded data removed]",
      "text/plain": [
       "<Figure size 432x288 with 1 Axes>"
      ]
     },
     "metadata": {
      "needs_background": "light"
     },
     "output_type": "display_data"
    }
   ],
   "source": [
    "plt.plot(dn.x,dn.nom1,label='nom1')\n",
    "plt.plot(dn.x,dn.nom2,label='nom2')\n",
    "plt.plot(dn.x,dn.nom3,label='nom3')\n",
    "plt.legend()"
   ]
  },
  {
   "cell_type": "code",
   "execution_count": 6,
   "id": "d04c159e",
   "metadata": {},
   "outputs": [
    {
     "name": "stdout",
     "output_type": "stream",
     "text": [
      "[2, 3, 4, 6, 7]\n"
     ]
    }
   ],
   "source": [
    "a = [1,2,3,4,5]\n",
    "b = [1,1,1,2,2]\n",
    "c = [a,b]\n",
    "s = [x+y for x,y in zip(a,b)]\n",
    "print(s)"
   ]
  },
  {
   "cell_type": "code",
   "execution_count": 7,
   "id": "76909e8c",
   "metadata": {},
   "outputs": [],
   "source": [
    "def ecdf(data):\n",
    "    \"\"\"Compute ECDF for a one-dimensional array of measurements.\"\"\"\n",
    "    # Number of data points: n\n",
    "    n = len(data)\n",
    "\n",
    "    # x-data for the ECDF: x\n",
    "    x = np.sort(data)\n",
    "\n",
    "    # y-data for the ECDF: y\n",
    "    y = np.arange(1, n+1) / n\n",
    "\n",
    "    return x, y"
   ]
  },
  {
   "cell_type": "code",
   "execution_count": 20,
   "id": "4f3f36a5",
   "metadata": {},
   "outputs": [
    {
     "data": {
      "text/plain": [
       "[<matplotlib.lines.Line2D at 0x7f830d6786a0>]"
      ]
     },
     "execution_count": 20,
     "metadata": {},
     "output_type": "execute_result"
    },
    {
     "data": {
      "image/png": "[encoded data removed]",
      "text/plain": [
       "<Figure size 432x288 with 1 Axes>"
      ]
     },
     "metadata": {
      "needs_background": "light"
     },
     "output_type": "display_data"
    }
   ],
   "source": [
    "a = range(0,100,10)\n",
    "b = range(300,400)\n",
    "c = list(a)+list(b)+list(a)\n",
    "x,y = ecdf(c)\n",
    "plt.plot(x,y,marker='.',linestyle='none')"
   ]
  },
  {
   "cell_type": "code",
   "execution_count": null,
   "id": "4423d142",
   "metadata": {},
   "outputs": [],
   "source": []
  }
 ],
 "metadata": {
  "kernelspec": {
   "display_name": "Python 3 (ipykernel)",
   "language": "python",
   "name": "python3"
  },
  "language_info": {
   "codemirror_mode": {
    "name": "ipython",
    "version": 3
   },
   "file_extension": ".py",
   "mimetype": "text/x-python",
   "name": "python",
   "nbconvert_exporter": "python",
   "pygments_lexer": "ipython3",
   "version": "3.9.0"
  }
 },
 "nbformat": 4,
 "nbformat_minor": 5
}
